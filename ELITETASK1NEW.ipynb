{
 "cells": [
  {
   "cell_type": "code",
   "execution_count": 11,
   "id": "7d10e314-bff3-445a-8cca-a0f95aa0c18c",
   "metadata": {},
   "outputs": [],
   "source": [
    "import pandas as pd\n",
    "from sklearn.preprocessing import StandardScaler, LabelEncoder\n",
    "from sklearn.impute import SimpleImputer\n"
   ]
  },
  {
   "cell_type": "code",
   "execution_count": 12,
   "id": "7b90edbc-2880-4fd0-bb9e-8446458f348d",
   "metadata": {},
   "outputs": [],
   "source": [
    "def extract_data(file_path):\n",
    "    \"\"\"Load data from CSV file.\"\"\"\n",
    "    try:\n",
    "        data = pd.read_csv(file_path)\n",
    "        print(\"✅ Data extracted successfully.\")\n",
    "        return data\n",
    "    except Exception as e:\n",
    "        print(f\"❌ Error in extracting data: {e}\")\n"
   ]
  },
  {
   "cell_type": "code",
   "execution_count": 13,
   "id": "0282ac66-014d-4d79-8f21-63b8a4b0dd13",
   "metadata": {},
   "outputs": [],
   "source": [
    "def transform_data(data):\n",
    "    \"\"\"Preprocess the data (cleaning, encoding, scaling).\"\"\"\n",
    "\n",
    "    num_imputer = SimpleImputer(strategy=\"mean\")\n",
    "    cat_imputer = SimpleImputer(strategy=\"most_frequent\")\n",
    "\n",
    "    numeric_cols = data.select_dtypes(include=[\"int64\", \"float64\"]).columns\n",
    "    categorical_cols = data.select_dtypes(include=[\"object\"]).columns\n",
    "\n",
    "    data[numeric_cols] = num_imputer.fit_transform(data[numeric_cols])\n",
    "\n",
    "    data[categorical_cols] = cat_imputer.fit_transform(data[categorical_cols])\n",
    "\n",
    "    label_encoders = {}\n",
    "    for col in categorical_cols:\n",
    "        le = LabelEncoder()\n",
    "        data[col] = le.fit_transform(data[col])\n",
    "        label_encoders[col] = le\n",
    "\n",
    "    scaler = StandardScaler()\n",
    "    data[numeric_cols] = scaler.fit_transform(data[numeric_cols])\n",
    "\n",
    "    print(\"✅ Data transformed successfully.\")\n",
    "    return data"
   ]
  },
  {
   "cell_type": "code",
   "execution_count": 14,
   "id": "9713a3fa-e404-47e4-bf65-d97b987ffe4a",
   "metadata": {},
   "outputs": [],
   "source": [
    "if __name__ == \"__main__\":\n",
    "    input_file = \"raw_data.csv\"    \n",
    "    output_file = \"processed_data.csv\"\n"
   ]
  },
  {
   "cell_type": "code",
   "execution_count": 15,
   "id": "46f51c55-32a2-467e-aea2-3cb270ecb838",
   "metadata": {},
   "outputs": [
    {
     "name": "stdout",
     "output_type": "stream",
     "text": [
      "✅ Data extracted successfully.\n",
      "✅ Data transformed successfully.\n",
      "✅ Data loaded successfully into processed_data.csv\n"
     ]
    }
   ],
   "source": [
    "raw_data = extract_data(input_file)\n",
    "if raw_data is not None:\n",
    "        processed_data = transform_data(raw_data)\n",
    "        load_data(processed_data, output_file)\n"
   ]
  },
  {
   "cell_type": "code",
   "execution_count": null,
   "id": "f5166afe-bc15-439b-b239-6956e0cdcad3",
   "metadata": {},
   "outputs": [],
   "source": []
  }
 ],
 "metadata": {
  "kernelspec": {
   "display_name": "anaconda-2024.02-py310",
   "language": "python",
   "name": "conda-env-anaconda-2024.02-py310-py"
  },
  "language_info": {
   "codemirror_mode": {
    "name": "ipython",
    "version": 3
   },
   "file_extension": ".py",
   "mimetype": "text/x-python",
   "name": "python",
   "nbconvert_exporter": "python",
   "pygments_lexer": "ipython3",
   "version": "3.10.14"
  }
 },
 "nbformat": 4,
 "nbformat_minor": 5
}
