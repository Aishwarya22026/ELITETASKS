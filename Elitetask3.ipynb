{
 "cells": [
  {
   "cell_type": "code",
   "execution_count": 29,
   "id": "de1ac045-4ad5-44dc-877f-570d0e3001b0",
   "metadata": {},
   "outputs": [],
   "source": [
    "import pandas as pd\n",
    "from sklearn.datasets import load_iris\n",
    "from sklearn.model_selection import train_test_split\n",
    "from sklearn.ensemble import RandomForestClassifier\n",
    "import pickle"
   ]
  },
  {
   "cell_type": "code",
   "execution_count": 30,
   "id": "4999a936-f79c-4983-be73-34cf7767ee45",
   "metadata": {},
   "outputs": [],
   "source": [
    "iris = load_iris()\n",
    "X = pd.DataFrame(iris.data, columns=iris.feature_names)\n",
    "y = iris.target"
   ]
  },
  {
   "cell_type": "code",
   "execution_count": 31,
   "id": "fcd3b2b8-3321-48b5-b1d6-83e660312314",
   "metadata": {},
   "outputs": [],
   "source": [
    "X_train, X_test, y_train, y_test = train_test_split(X, y, test_size=0.2, random_state=42)\n"
   ]
  },
  {
   "cell_type": "code",
   "execution_count": 32,
   "id": "e0496e56-649d-4bc1-aec7-8bb82ea17330",
   "metadata": {},
   "outputs": [
    {
     "name": "stdout",
     "output_type": "stream",
     "text": [
      "✅ Model trained with accuracy: 1.00\n"
     ]
    }
   ],
   "source": [
    "model = RandomForestClassifier()\n",
    "model.fit(X_train, y_train)\n",
    "\n",
    "print(f\"✅ Model trained with accuracy: {model.score(X_test, y_test):.2f}\")"
   ]
  },
  {
   "cell_type": "code",
   "execution_count": 33,
   "id": "5adb6173-f626-4c88-8be5-1fec45e6a66d",
   "metadata": {},
   "outputs": [],
   "source": [
    "with open(\"model.pkl\", \"wb\") as f:\n",
    "    pickle.dump(model,f)"
   ]
  },
  {
   "cell_type": "code",
   "execution_count": 34,
   "id": "d96caf81-e0c1-4510-b25b-1618a0321e10",
   "metadata": {},
   "outputs": [],
   "source": [
    "from flask import Flask, request, jsonify, render_template\n",
    "import pickle\n",
    "import numpy as np"
   ]
  },
  {
   "cell_type": "code",
   "execution_count": 35,
   "id": "77a73049-567b-43e8-85f1-80890fca2cf2",
   "metadata": {},
   "outputs": [],
   "source": [
    "app = Flask(__name__)"
   ]
  },
  {
   "cell_type": "code",
   "execution_count": 36,
   "id": "e8b1b89c-3cc4-4356-ab93-55634358ba3f",
   "metadata": {},
   "outputs": [],
   "source": [
    "@app.route('/')\n",
    "def home():\n",
    "    return render_template('index.html')\n",
    "\n",
    "\n"
   ]
  },
  {
   "cell_type": "code",
   "execution_count": 37,
   "id": "eb3e3ad6-3891-41db-9ccb-239f82ef4e1c",
   "metadata": {},
   "outputs": [],
   "source": [
    "@app.route('/predict', methods=['POST'])\n",
    "def predict():\n",
    "    try:\n",
    "        features = [float(x) for x in request.form.values()]\n",
    "        features_array = np.array(features).reshape(1, -1)\n",
    "\n",
    "        prediction = model.predict(features_array)[0]\n",
    "        species = [\"Setosa\", \"Versicolor\", \"Virginica\"]\n",
    "\n",
    "        return render_template('index.html', prediction_text=f\"Prediction: {species[prediction]}\")\n",
    "    except Exception as e:\n",
    "        return jsonify({\"error\": str(e)})\n"
   ]
  },
  {
   "cell_type": "code",
   "execution_count": 38,
   "id": "76fc8860-8852-4b80-9883-cca10569996d",
   "metadata": {},
   "outputs": [
    {
     "name": "stdout",
     "output_type": "stream",
     "text": [
      " * Serving Flask app '__main__'\n",
      " * Debug mode: on\n"
     ]
    },
    {
     "name": "stderr",
     "output_type": "stream",
     "text": [
      "WARNING: This is a development server. Do not use it in a production deployment. Use a production WSGI server instead.\n",
      " * Running on http://127.0.0.1:5000\n",
      "Press CTRL+C to quit\n",
      " * Restarting with watchdog (windowsapi)\n"
     ]
    },
    {
     "ename": "SystemExit",
     "evalue": "1",
     "output_type": "error",
     "traceback": [
      "An exception has occurred, use %tb to see the full traceback.\n",
      "\u001b[1;31mSystemExit\u001b[0m\u001b[1;31m:\u001b[0m 1\n"
     ]
    },
    {
     "name": "stderr",
     "output_type": "stream",
     "text": [
      "C:\\Users\\praka\\anaconda3\\Lib\\site-packages\\IPython\\core\\interactiveshell.py:3585: UserWarning: To exit: use 'exit', 'quit', or Ctrl-D.\n",
      "  warn(\"To exit: use 'exit', 'quit', or Ctrl-D.\", stacklevel=1)\n"
     ]
    }
   ],
   "source": [
    "if __name__ == \"__main__\":\n",
    "    app.run(debug=True)"
   ]
  },
  {
   "cell_type": "code",
   "execution_count": null,
   "id": "f17fb9fd-120f-4a67-afdf-65f90ee7ecd8",
   "metadata": {},
   "outputs": [],
   "source": [
    "<!DOCTYPE html>\n",
    "<html>\n",
    "<head>\n",
    "    <title>Iris Flower Prediction</title>\n",
    "</head>\n",
    "<body>\n",
    "    <h2>Iris Flower Prediction</h2>\n",
    "    <form action=\"/predict\" method=\"post\">\n",
    "        <label>Sepal Length:</label><input type=\"text\" name=\"sepal_length\"><br><br>\n",
    "        <label>Sepal Width:</label><input type=\"text\" name=\"sepal_width\"><br><br>\n",
    "        <label>Petal Length:</label><input type=\"text\" name=\"petal_length\"><br><br>\n",
    "        <label>Petal Width:</label><input type=\"text\" name=\"petal_width\"><br><br>\n",
    "        <button type=\"submit\">Predict</button>\n",
    "    </form>\n",
    "\n",
    "    {% if prediction_text %}\n",
    "        <h3>{{ prediction_text }}</h3>\n",
    "    {% endif %}\n",
    "</body>\n",
    "</html>"
   ]
  },
  {
   "cell_type": "code",
   "execution_count": null,
   "id": "095c9f43-9e62-4ba1-83c8-ac2f23f67a89",
   "metadata": {},
   "outputs": [],
   "source": [
    "<input type=\"number\" name=\"sepal_length\" step=\"0.1\" required>\n"
   ]
  },
  {
   "cell_type": "code",
   "execution_count": null,
   "id": "db18674c-b314-4605-a36f-b419e9b1d4d9",
   "metadata": {},
   "outputs": [],
   "source": [
    "<style>\n",
    "    body { font-family: Arial; padding: 20px; }\n",
    "    input { margin-bottom: 10px; }\n",
    "    button { padding: 5px 10px; }\n",
    "</style>\n"
   ]
  },
  {
   "cell_type": "code",
   "execution_count": null,
   "id": "beb70c77-7906-490e-8afc-9368dc6e4faf",
   "metadata": {},
   "outputs": [],
   "source": [
    "{% if prediction_text %}\n",
    "    <h3>{{ prediction_text }}</h3>\n",
    "{% endif %}\n"
   ]
  },
  {
   "cell_type": "code",
   "execution_count": null,
   "id": "1808c9ca-c91e-41fd-b09f-0c8d0bf24019",
   "metadata": {},
   "outputs": [],
   "source": [
    "from flask import Flask, render_template, request\n",
    "\n",
    "app = Flask(__name__)\n",
    "\n",
    "@app.route('/')\n",
    "def home():\n",
    "    return render_template('index.html')\n",
    "\n",
    "@app.route('/predict', methods=['POST'])\n",
    "def predict():\n",
    "    sepal_length = request.form['sepal_length']\n",
    "    sepal_width = request.form['sepal_width']\n",
    "    petal_length = request.form['petal_length']\n",
    "    petal_width = request.form['petal_width']\n",
    "\n",
    "    prediction = \"Iris-setosa\" \n",
    "\n",
    "    return render_template('index.html', prediction_text=f'Predicted species: {prediction}')\n"
   ]
  }
 ],
 "metadata": {
  "kernelspec": {
   "display_name": "Python [conda env:base] *",
   "language": "python",
   "name": "conda-base-py"
  },
  "language_info": {
   "codemirror_mode": {
    "name": "ipython",
    "version": 3
   },
   "file_extension": ".py",
   "mimetype": "text/x-python",
   "name": "python",
   "nbconvert_exporter": "python",
   "pygments_lexer": "ipython3",
   "version": "3.13.5"
  }
 },
 "nbformat": 4,
 "nbformat_minor": 5
}
